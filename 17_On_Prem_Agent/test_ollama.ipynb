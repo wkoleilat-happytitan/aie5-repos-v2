{
 "cells": [
  {
   "cell_type": "code",
   "execution_count": 1,
   "metadata": {},
   "outputs": [],
   "source": [
    "from langchain_ollama import ChatOllama\n",
    "\n",
    "llm = ChatOllama(model=\"deepseek-r1:8b\")"
   ]
  },
  {
   "cell_type": "code",
   "execution_count": 7,
   "metadata": {},
   "outputs": [
    {
     "name": "stdout",
     "output_type": "stream",
     "text": [
      "<think>\n",
      "To determine the third root of 27, I start by understanding what a cube root is. The cube root of a number \\( x \\) is another number \\( y \\) such that \\( y^3 = x \\).\n",
      "\n",
      "Given the number 27, I know that \\( 3^3 = 27 \\). This means that \\( y = 3 \\) satisfies the equation.\n",
      "\n",
      "Therefore, the third root of 27 is 3.\n",
      "</think>\n",
      "\n",
      "To find the **3rd root** of **27**, follow these steps:\n",
      "\n",
      "1. **Understand What a Cube Root Is:**\n",
      "   \n",
      "   The cube root of a number \\( x \\), denoted as \\( \\sqrt[3]{x} \\), is a number \\( y \\) such that:\n",
      "   \\[\n",
      "   y^3 = x\n",
      "   \\]\n",
      "   \n",
      "2. **Apply the Definition to 27:**\n",
      "   \n",
      "   We need to find \\( y \\) such that:\n",
      "   \\[\n",
      "   y^3 = 27\n",
      "   \\]\n",
      "   \n",
      "3. **Calculate the Cube of 3:**\n",
      "   \n",
      "   Let's test \\( y = 3 \\):\n",
      "   \\[\n",
      "   3^3 = 3 \\times 3 \\times 3 = 9 \\times 3 = 27\n",
      "   \\]\n",
      "   \n",
      "4. **Conclusion:**\n",
      "   \n",
      "   Since \\( 3^3 = 27 \\), it follows that:\n",
      "   \\[\n",
      "   \\sqrt[3]{27} = 3\n",
      "   \\]\n",
      "\n",
      "\\(\\boxed{3}\\)"
     ]
    }
   ],
   "source": [
    "for chunk in llm.stream(\"What is the 3rd root of 27?\"):\n",
    "    print(chunk.content, end=\"\")"
   ]
  }
 ],
 "metadata": {
  "kernelspec": {
   "display_name": ".venv",
   "language": "python",
   "name": "python3"
  },
  "language_info": {
   "codemirror_mode": {
    "name": "ipython",
    "version": 3
   },
   "file_extension": ".py",
   "mimetype": "text/x-python",
   "name": "python",
   "nbconvert_exporter": "python",
   "pygments_lexer": "ipython3",
   "version": "3.13.1"
  }
 },
 "nbformat": 4,
 "nbformat_minor": 2
}
